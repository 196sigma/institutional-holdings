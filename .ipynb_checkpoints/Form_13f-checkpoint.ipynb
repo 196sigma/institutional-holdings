{
 "cells": [
  {
   "cell_type": "code",
   "execution_count": 1,
   "metadata": {},
   "outputs": [],
   "source": [
    "import pandas as pd"
   ]
  },
  {
   "cell_type": "code",
   "execution_count": null,
   "metadata": {},
   "outputs": [],
   "source": [
    "filings_q12020 = open('form.idx', 'r').readlines()\n",
    "filings_q12020 = filings_q12020[10:]\n",
    "filings_q12020[:10]\n",
    "with open('temp-form','w') as outfile:\n",
    "    outfile.writelines(filings_q12020)\n",
    "df = pd.read_fwf('temp-form', \n",
    "                 names=['form_type', 'company_name', 'cik', 'date_filed','file_name'])\n",
    "print(df.shape)\n",
    "df.head()\n",
    "\n",
    "form_13f_filings = df[df['form_type'].apply(lambda s: str(s).find('13F') > -1)]\n",
    "print(form_13f_filings.shape)\n",
    "form_13f_filings.head()\n",
    "\n",
    "form_13f_filings.query(\"cik == 1037389\")"
   ]
  }
 ],
 "metadata": {
  "kernelspec": {
   "display_name": "Python 3",
   "language": "python",
   "name": "python3"
  },
  "language_info": {
   "codemirror_mode": {
    "name": "ipython",
    "version": 3
   },
   "file_extension": ".py",
   "mimetype": "text/x-python",
   "name": "python",
   "nbconvert_exporter": "python",
   "pygments_lexer": "ipython3",
   "version": "3.7.6"
  }
 },
 "nbformat": 4,
 "nbformat_minor": 4
}
