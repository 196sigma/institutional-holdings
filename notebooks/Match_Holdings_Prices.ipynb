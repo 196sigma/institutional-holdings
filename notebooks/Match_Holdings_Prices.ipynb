{
 "cells": [
  {
   "cell_type": "code",
   "execution_count": 1,
   "metadata": {},
   "outputs": [],
   "source": [
    "import pandas as pd\n",
    "# Add stock price\n",
    "import yfinance as yf\n",
    "from datetime import datetime\n",
    "from dateutil import relativedelta\n",
    "import time\n"
   ]
  },
  {
   "cell_type": "code",
   "execution_count": null,
   "metadata": {},
   "outputs": [],
   "source": [
    "stock_history_df = pd.DataFrame()\n",
    "\n",
    "for ticker in set(df2['ticker']):\n",
    "    query_string = f\"ticker == '{ticker}'\"\n",
    "    date_filed = list(df2.query(query_string)['date_filed'])[0]\n",
    "    date_filed = datetime.strptime(date_filed, \"%m/%d/%y\")\n",
    "\n",
    "    start_date = date_filed + relativedelta.relativedelta(days=-1) \n",
    "    start_date = start_date.strftime(format=\"%Y-%m-%d\")\n",
    "\n",
    "    end_date = date_filed + relativedelta.relativedelta(days=3) \n",
    "    end_date = end_date.strftime(format=\"%Y-%m-%d\")\n",
    "\n",
    "\n",
    "    stock = yf.Ticker(ticker)\n",
    "    stock_history = stock.history(start=start_date, end=end_date)\n",
    "    stock_history['ticker'] = ticker\n",
    "    stock_history_df = stock_history_df.append(stock_history)\n",
    "stock_history_df = stock_history_df.reset_index()"
   ]
  },
  {
   "cell_type": "code",
   "execution_count": null,
   "metadata": {},
   "outputs": [],
   "source": [
    "holdings_q12020 = get_13f_df(cik=1037389, quarter='2020Q1')"
   ]
  },
  {
   "cell_type": "code",
   "execution_count": null,
   "metadata": {},
   "outputs": [],
   "source": [
    "df = []\n",
    "for i in range(10):\n",
    "    cusip = holdings_q12020['Cusip'][i]\n",
    "    res = ticker_from_cusip(cusip)\n",
    "    if res is not None:\n",
    "        res = list(res)\n",
    "        res.append(cusip)\n",
    "        df.append(res)\n",
    "    time.sleep(1)\n",
    "\n",
    "df = pd.DataFrame.from_records(df, columns=['openfigi_name', 'ticker', 'exchange', 'Cusip'])\n",
    "df"
   ]
  },
  {
   "cell_type": "code",
   "execution_count": null,
   "metadata": {},
   "outputs": [],
   "source": [
    "df2 = df.merge(holdings_q12020, on = 'Cusip')\n",
    "df2['date_filed'] = df2['date_filed'].apply(lambda s: datetime.strptime(s, \"%m/%d/%y\"))\n",
    "print(df2.shape)\n",
    "df2[['openfigi_name', 'Name', 'ticker', 'Cusip', 'date_filed']]"
   ]
  },
  {
   "cell_type": "code",
   "execution_count": null,
   "metadata": {},
   "outputs": [],
   "source": [
    "df3 = df2.merge(stock_history_df, left_on = ['ticker', 'date_filed'], right_on=['ticker','Date'])\n",
    "print(df3.shape)\n",
    "df3"
   ]
  }
 ],
 "metadata": {
  "kernelspec": {
   "display_name": "Python 3",
   "language": "python",
   "name": "python3"
  },
  "language_info": {
   "codemirror_mode": {
    "name": "ipython",
    "version": 3
   },
   "file_extension": ".py",
   "mimetype": "text/x-python",
   "name": "python",
   "nbconvert_exporter": "python",
   "pygments_lexer": "ipython3",
   "version": "3.7.6"
  }
 },
 "nbformat": 4,
 "nbformat_minor": 4
}
